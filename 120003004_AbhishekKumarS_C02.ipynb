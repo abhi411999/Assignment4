{
 "cells": [
  {
   "cell_type": "markdown",
   "metadata": {},
   "source": [
    "1.a"
   ]
  },
  {
   "cell_type": "code",
   "execution_count": 5,
   "metadata": {},
   "outputs": [
    {
     "name": "stdout",
     "output_type": "stream",
     "text": [
      "Jaccard distance between A and B is  0.5\n",
      "Jaccard distance between B and C is  0.5\n",
      "Jaccard distance between A and C is  0.5\n"
     ]
    }
   ],
   "source": [
    "a=(1,1,0,1,1,0,1,1)\n",
    "b=(0,1,1,1,1,1,1,0)\n",
    "c=(1,0,1,1,0,1,1,1)\n",
    "\n",
    "#A and B\n",
    "inter=0\n",
    "union=0\n",
    "for i in range(len(a)):\n",
    "    if a[i]==b[i]:\n",
    "        inter+=1\n",
    "for i in range(len(a)):\n",
    "    if a[i]==1 or b[i]==1:\n",
    "        union+=1\n",
    "jaccardDist=1-(inter/union)\n",
    "print(\"Jaccard distance between A and B is \",jaccardDist)\n",
    "\n",
    "#B and C\n",
    "inter=0\n",
    "union=0\n",
    "for i in range(len(b)):\n",
    "    if b[i]==c[i]:\n",
    "        inter+=1\n",
    "for i in range(len(b)):\n",
    "    if b[i]==1 or c[i]==1:\n",
    "        union+=1\n",
    "jaccardDist=1-(inter/union)\n",
    "print(\"Jaccard distance between B and C is \",jaccardDist)\n",
    "\n",
    "#A and C\n",
    "inter=0\n",
    "union=0\n",
    "for i in range(len(a)):\n",
    "    if a[i]==c[i]:\n",
    "        inter+=1\n",
    "for i in range(len(a)):\n",
    "    if a[i]==1 or c[i]==1:\n",
    "        union+=1\n",
    "jaccardDist=1-(inter/union)\n",
    "print(\"Jaccard distance between A and C is \",jaccardDist)\n"
   ]
  },
  {
   "cell_type": "markdown",
   "metadata": {},
   "source": [
    "1.b"
   ]
  },
  {
   "cell_type": "code",
   "execution_count": 6,
   "metadata": {},
   "outputs": [
    {
     "name": "stdout",
     "output_type": "stream",
     "text": [
      "The Cosine Distance between A and B is 0.6666666666666667\n",
      "The Cosine Distance between B and C is 0.6666666666666667\n",
      "The Cosine Distance between A and C is 0.6666666666666667\n"
     ]
    }
   ],
   "source": [
    "from math import sqrt\n",
    "\n",
    "def dotProd(p,q):\n",
    "    d=0\n",
    "    for i in range(len(q)):\n",
    "        d+=p[i]*q[i]\n",
    "    return d\n",
    "\n",
    "num=dotProd(a,b)\n",
    "den=sqrt(dotProd(a,a)) * sqrt(dotProd(b,b))\n",
    "print(\"The Cosine Distance between A and B is \"+str(num/den))\n",
    "\n",
    "num=dotProd(b,c)\n",
    "den=sqrt(dotProd(b,b)) * sqrt(dotProd(c,c))\n",
    "print(\"The Cosine Distance between B and C is \"+str(num/den))\n",
    "\n",
    "num=dotProd(a,c)\n",
    "den=sqrt(dotProd(a,a)) * sqrt(dotProd(c,c))\n",
    "print(\"The Cosine Distance between A and C is \"+str(num/den))\n"
   ]
  },
  {
   "cell_type": "markdown",
   "metadata": {},
   "source": [
    "1.c"
   ]
  },
  {
   "cell_type": "code",
   "execution_count": 12,
   "metadata": {},
   "outputs": [
    {
     "name": "stdout",
     "output_type": "stream",
     "text": [
      "Jaccard distance between A and B is  0.6\n",
      "Jaccard distance between B and C is  0.5\n",
      "Jaccard distance between A and C is  0.33333333333333337\n"
     ]
    }
   ],
   "source": [
    "a=(1,1,0,1,0,0,1,0)\n",
    "b=(0,1,1,1,0,0,0,0)\n",
    "c=(0,0,0,1,0,1,1,1)\n",
    "\n",
    "#A and B\n",
    "inter=0\n",
    "union=0\n",
    "for i in range(len(a)):\n",
    "    if a[i]==1 and a[i]==b[i]:\n",
    "        inter+=1\n",
    "for i in range(len(a)):\n",
    "    if a[i]==1 or b[i]==1:\n",
    "        union+=1\n",
    "jaccardDist=1-(inter/union)\n",
    "print(\"Jaccard distance between A and B is \",jaccardDist)\n",
    "\n",
    "#B and C\n",
    "inter=0\n",
    "union=0\n",
    "for i in range(len(b)):\n",
    "    if b[i]==c[i]:\n",
    "        inter+=1\n",
    "for i in range(len(b)):\n",
    "    if b[i]==1 or c[i]==1:\n",
    "        union+=1\n",
    "jaccardDist=1-(inter/union)\n",
    "print(\"Jaccard distance between B and C is \",jaccardDist)\n",
    "\n",
    "#A and C\n",
    "inter=0\n",
    "union=0\n",
    "for i in range(len(a)):\n",
    "    if a[i]==c[i]:\n",
    "        inter+=1\n",
    "for i in range(len(a)):\n",
    "    if a[i]==1 or c[i]==1:\n",
    "        union+=1\n",
    "jaccardDist=1-(inter/union)\n",
    "print(\"Jaccard distance between A and C is \",jaccardDist)\n"
   ]
  },
  {
   "cell_type": "markdown",
   "metadata": {},
   "source": [
    "1.d"
   ]
  },
  {
   "cell_type": "code",
   "execution_count": 13,
   "metadata": {},
   "outputs": [
    {
     "name": "stdout",
     "output_type": "stream",
     "text": [
      "The Cosine Distance between A and B is 0.5773502691896258\n",
      "The Cosine Distance between B and C is 0.2886751345948129\n",
      "The Cosine Distance between A and C is 0.5\n"
     ]
    }
   ],
   "source": [
    "a=(1,1,0,1,0,0,1,0)\n",
    "b=(0,1,1,1,0,0,0,0)\n",
    "c=(0,0,0,1,0,1,1,1)\n",
    "\n",
    "num=dotProd(a,b)\n",
    "den=sqrt(dotProd(a,a)) * sqrt(dotProd(b,b))\n",
    "print(\"The Cosine Distance between A and B is \"+str(num/den))\n",
    "\n",
    "num=dotProd(b,c)\n",
    "den=sqrt(dotProd(b,b)) * sqrt(dotProd(c,c))\n",
    "print(\"The Cosine Distance between B and C is \"+str(num/den))\n",
    "\n",
    "num=dotProd(a,c)\n",
    "den=sqrt(dotProd(a,a)) * sqrt(dotProd(c,c))\n",
    "print(\"The Cosine Distance between A and C is \"+str(num/den))\n"
   ]
  },
  {
   "cell_type": "markdown",
   "metadata": {},
   "source": [
    "1.e"
   ]
  },
  {
   "cell_type": "code",
   "execution_count": 16,
   "metadata": {},
   "outputs": [
    {
     "name": "stdout",
     "output_type": "stream",
     "text": [
      "Normalized Matrix:\n",
      "[1.5, 2.5, 0, 2.5, -1.5, 0, 0.5, -0.5]\n",
      "[0, 1.25, 2.25, 1.25, -0.75, 0.25, -0.75, 0]\n",
      "[-0.25, 0, -1.25, 0.75, 0, 1.75, 2.75, 0.75]\n"
     ]
    }
   ],
   "source": [
    "a=[4,5,0,5,1,0,3,2]\n",
    "b=[0,3,4,3,1,2,1,0]\n",
    "c=[2,0,1,3,0,4,5,3]\n",
    "\n",
    "def avg(a):\n",
    "    total=0;\n",
    "    for i in range(len(a)):\n",
    "        total+=a[i]\n",
    "    return total/len(a)\n",
    "\n",
    "def normalize(a):\n",
    "    avrg=avg(a)\n",
    "    l=[]\n",
    "    for i in a:\n",
    "        if(i is not 0):\n",
    "            l.append(i-avrg)\n",
    "        else:\n",
    "            l.append(0)\n",
    "    print(l)\n",
    "print(\"Normalized Matrix:\")\n",
    "normalize(a)\n",
    "normalize(b)\n",
    "normalize(c)"
   ]
  },
  {
   "cell_type": "markdown",
   "metadata": {},
   "source": [
    "1.c"
   ]
  },
  {
   "cell_type": "code",
   "execution_count": 17,
   "metadata": {},
   "outputs": [
    {
     "name": "stdout",
     "output_type": "stream",
     "text": [
      "The Cosine Distance between A and B is 0.5465040408511785\n",
      "The Cosine Distance between B and C is -0.31256152042413066\n",
      "The Cosine Distance between A and C is 0.16340829138365012\n"
     ]
    }
   ],
   "source": [
    "a=(1.5, 2.5, 0, 2.5, -1.5, 0, 0.5, -0.5)\n",
    "b=(0, 1.25, 2.25, 1.25, -0.75, 0.25, -0.75, 0)\n",
    "c=(-0.25, 0, -1.25, 0.75, 0, 1.75, 2.75, 0.75)\n",
    "\n",
    "num=dotProd(a,b)\n",
    "den=sqrt(dotProd(a,a)) * sqrt(dotProd(b,b))\n",
    "print(\"The Cosine Distance between A and B is \"+str(num/den))\n",
    "\n",
    "num=dotProd(b,c)\n",
    "den=sqrt(dotProd(b,b)) * sqrt(dotProd(c,c))\n",
    "print(\"The Cosine Distance between B and C is \"+str(num/den))\n",
    "\n",
    "num=dotProd(a,c)\n",
    "den=sqrt(dotProd(a,a)) * sqrt(dotProd(c,c))\n",
    "print(\"The Cosine Distance between A and C is \"+str(num/den))\n"
   ]
  },
  {
   "cell_type": "markdown",
   "metadata": {},
   "source": [
    "2"
   ]
  },
  {
   "cell_type": "code",
   "execution_count": 70,
   "metadata": {
    "scrolled": true
   },
   "outputs": [
    {
     "name": "stdout",
     "output_type": "stream",
     "text": [
      "                                                                 94\n",
      "MovieID                                                          95\n",
      "MovieTitle                                           Aladdin (1992)\n",
      "ReleaseDate                                             01-Jan-1992\n",
      "VideoReleaseDate                                                NaN\n",
      "IMDbURL           http://us.imdb.com/M/title-exact?Aladdin%20(1992)\n",
      "unknown                                                           0\n",
      "Action                                                            0\n",
      "Adventure                                                         0\n",
      "Animation                                                         1\n",
      "Children's                                                        1\n"
     ]
    }
   ],
   "source": [
    "import pandas as pd\n",
    "colnames1= [\"UserID\", \"ItemID\", \"Rating\", \"Timestamp\"]\n",
    "colnames2 = ['MovieID', 'MovieTitle', 'ReleaseDate', 'VideoReleaseDate', 'IMDbURL', 'unknown', 'Action', 'Adventure', 'Animation', \"Children's\", 'Comedy', 'Crime', 'Documentary', 'Drama', 'Fantasy', 'Film-Noir', 'Horror', 'Musical', 'Mystery', 'Romance', 'Sci-Fi', 'Thriller', 'War', 'Western']\n",
    "data1=pd.read_csv('E:/Python Projects/ml-100k/data.csv', sep = ',',encoding='iso-8859-1', names = colnames1)\n",
    "data2=pd.read_csv('E:/Python Projects/ml-100k/item.csv', sep = '|',encoding='iso-8859-1', names = colnames2)\n",
    "movie_choice=pd.DataFrame(data2.loc[94,::])\n",
    "print(movie_choice.head(n=10))\n",
    "#data2.index+=1"
   ]
  },
  {
   "cell_type": "code",
   "execution_count": 47,
   "metadata": {},
   "outputs": [
    {
     "data": {
      "text/html": [
       "<div>\n",
       "<style scoped>\n",
       "    .dataframe tbody tr th:only-of-type {\n",
       "        vertical-align: middle;\n",
       "    }\n",
       "\n",
       "    .dataframe tbody tr th {\n",
       "        vertical-align: top;\n",
       "    }\n",
       "\n",
       "    .dataframe thead th {\n",
       "        text-align: right;\n",
       "    }\n",
       "</style>\n",
       "<table border=\"1\" class=\"dataframe\">\n",
       "  <thead>\n",
       "    <tr style=\"text-align: right;\">\n",
       "      <th></th>\n",
       "      <th>MovieID</th>\n",
       "      <th>MovieTitle</th>\n",
       "      <th>ReleaseDate</th>\n",
       "      <th>VideoReleaseDate</th>\n",
       "      <th>IMDbURL</th>\n",
       "      <th>unknown</th>\n",
       "      <th>Action</th>\n",
       "      <th>Adventure</th>\n",
       "      <th>Animation</th>\n",
       "      <th>Children's</th>\n",
       "      <th>...</th>\n",
       "      <th>Fantasy</th>\n",
       "      <th>Film-Noir</th>\n",
       "      <th>Horror</th>\n",
       "      <th>Musical</th>\n",
       "      <th>Mystery</th>\n",
       "      <th>Romance</th>\n",
       "      <th>Sci-Fi</th>\n",
       "      <th>Thriller</th>\n",
       "      <th>War</th>\n",
       "      <th>Western</th>\n",
       "    </tr>\n",
       "  </thead>\n",
       "  <tbody>\n",
       "    <tr>\n",
       "      <th>1</th>\n",
       "      <td>1</td>\n",
       "      <td>Toy Story (1995)</td>\n",
       "      <td>01-Jan-1995</td>\n",
       "      <td>NaN</td>\n",
       "      <td>http://us.imdb.com/M/title-exact?Toy%20Story%2...</td>\n",
       "      <td>0.0</td>\n",
       "      <td>0.0</td>\n",
       "      <td>0.0</td>\n",
       "      <td>1.0</td>\n",
       "      <td>1.0</td>\n",
       "      <td>...</td>\n",
       "      <td>0.0</td>\n",
       "      <td>0.0</td>\n",
       "      <td>0.0</td>\n",
       "      <td>0.0</td>\n",
       "      <td>0.0</td>\n",
       "      <td>0.0</td>\n",
       "      <td>0.0</td>\n",
       "      <td>0.0</td>\n",
       "      <td>0.0</td>\n",
       "      <td>0.0</td>\n",
       "    </tr>\n",
       "    <tr>\n",
       "      <th>2</th>\n",
       "      <td>2</td>\n",
       "      <td>GoldenEye (1995)</td>\n",
       "      <td>01-Jan-1995</td>\n",
       "      <td>NaN</td>\n",
       "      <td>http://us.imdb.com/M/title-exact?GoldenEye%20(...</td>\n",
       "      <td>0.0</td>\n",
       "      <td>1.0</td>\n",
       "      <td>1.0</td>\n",
       "      <td>0.0</td>\n",
       "      <td>0.0</td>\n",
       "      <td>...</td>\n",
       "      <td>0.0</td>\n",
       "      <td>0.0</td>\n",
       "      <td>0.0</td>\n",
       "      <td>0.0</td>\n",
       "      <td>0.0</td>\n",
       "      <td>0.0</td>\n",
       "      <td>0.0</td>\n",
       "      <td>1.0</td>\n",
       "      <td>0.0</td>\n",
       "      <td>0.0</td>\n",
       "    </tr>\n",
       "    <tr>\n",
       "      <th>3</th>\n",
       "      <td>3</td>\n",
       "      <td>Four Rooms (1995)</td>\n",
       "      <td>01-Jan-1995</td>\n",
       "      <td>NaN</td>\n",
       "      <td>http://us.imdb.com/M/title-exact?Four%20Rooms%...</td>\n",
       "      <td>0.0</td>\n",
       "      <td>0.0</td>\n",
       "      <td>0.0</td>\n",
       "      <td>0.0</td>\n",
       "      <td>0.0</td>\n",
       "      <td>...</td>\n",
       "      <td>0.0</td>\n",
       "      <td>0.0</td>\n",
       "      <td>0.0</td>\n",
       "      <td>0.0</td>\n",
       "      <td>0.0</td>\n",
       "      <td>0.0</td>\n",
       "      <td>0.0</td>\n",
       "      <td>1.0</td>\n",
       "      <td>0.0</td>\n",
       "      <td>0.0</td>\n",
       "    </tr>\n",
       "    <tr>\n",
       "      <th>4</th>\n",
       "      <td>4</td>\n",
       "      <td>Get Shorty (1995)</td>\n",
       "      <td>01-Jan-1995</td>\n",
       "      <td>NaN</td>\n",
       "      <td>http://us.imdb.com/M/title-exact?Get%20Shorty%...</td>\n",
       "      <td>0.0</td>\n",
       "      <td>1.0</td>\n",
       "      <td>0.0</td>\n",
       "      <td>0.0</td>\n",
       "      <td>0.0</td>\n",
       "      <td>...</td>\n",
       "      <td>0.0</td>\n",
       "      <td>0.0</td>\n",
       "      <td>0.0</td>\n",
       "      <td>0.0</td>\n",
       "      <td>0.0</td>\n",
       "      <td>0.0</td>\n",
       "      <td>0.0</td>\n",
       "      <td>0.0</td>\n",
       "      <td>0.0</td>\n",
       "      <td>0.0</td>\n",
       "    </tr>\n",
       "    <tr>\n",
       "      <th>5</th>\n",
       "      <td>5</td>\n",
       "      <td>Copycat (1995)</td>\n",
       "      <td>01-Jan-1995</td>\n",
       "      <td>NaN</td>\n",
       "      <td>http://us.imdb.com/M/title-exact?Copycat%20(1995)</td>\n",
       "      <td>0.0</td>\n",
       "      <td>0.0</td>\n",
       "      <td>0.0</td>\n",
       "      <td>0.0</td>\n",
       "      <td>0.0</td>\n",
       "      <td>...</td>\n",
       "      <td>0.0</td>\n",
       "      <td>0.0</td>\n",
       "      <td>0.0</td>\n",
       "      <td>0.0</td>\n",
       "      <td>0.0</td>\n",
       "      <td>0.0</td>\n",
       "      <td>0.0</td>\n",
       "      <td>1.0</td>\n",
       "      <td>0.0</td>\n",
       "      <td>0.0</td>\n",
       "    </tr>\n",
       "  </tbody>\n",
       "</table>\n",
       "<p>5 rows × 24 columns</p>\n",
       "</div>"
      ],
      "text/plain": [
       "  MovieID         MovieTitle  ReleaseDate  VideoReleaseDate  \\\n",
       "1       1   Toy Story (1995)  01-Jan-1995               NaN   \n",
       "2       2   GoldenEye (1995)  01-Jan-1995               NaN   \n",
       "3       3  Four Rooms (1995)  01-Jan-1995               NaN   \n",
       "4       4  Get Shorty (1995)  01-Jan-1995               NaN   \n",
       "5       5     Copycat (1995)  01-Jan-1995               NaN   \n",
       "\n",
       "                                             IMDbURL  unknown  Action  \\\n",
       "1  http://us.imdb.com/M/title-exact?Toy%20Story%2...      0.0     0.0   \n",
       "2  http://us.imdb.com/M/title-exact?GoldenEye%20(...      0.0     1.0   \n",
       "3  http://us.imdb.com/M/title-exact?Four%20Rooms%...      0.0     0.0   \n",
       "4  http://us.imdb.com/M/title-exact?Get%20Shorty%...      0.0     1.0   \n",
       "5  http://us.imdb.com/M/title-exact?Copycat%20(1995)      0.0     0.0   \n",
       "\n",
       "   Adventure  Animation  Children's  ...  Fantasy  Film-Noir  Horror  Musical  \\\n",
       "1        0.0        1.0         1.0  ...      0.0        0.0     0.0      0.0   \n",
       "2        1.0        0.0         0.0  ...      0.0        0.0     0.0      0.0   \n",
       "3        0.0        0.0         0.0  ...      0.0        0.0     0.0      0.0   \n",
       "4        0.0        0.0         0.0  ...      0.0        0.0     0.0      0.0   \n",
       "5        0.0        0.0         0.0  ...      0.0        0.0     0.0      0.0   \n",
       "\n",
       "   Mystery  Romance  Sci-Fi  Thriller  War  Western  \n",
       "1      0.0      0.0     0.0       0.0  0.0      0.0  \n",
       "2      0.0      0.0     0.0       1.0  0.0      0.0  \n",
       "3      0.0      0.0     0.0       1.0  0.0      0.0  \n",
       "4      0.0      0.0     0.0       0.0  0.0      0.0  \n",
       "5      0.0      0.0     0.0       1.0  0.0      0.0  \n",
       "\n",
       "[5 rows x 24 columns]"
      ]
     },
     "execution_count": 47,
     "metadata": {},
     "output_type": "execute_result"
    }
   ],
   "source": [
    "data2.head()"
   ]
  },
  {
   "cell_type": "code",
   "execution_count": 71,
   "metadata": {},
   "outputs": [
    {
     "name": "stdout",
     "output_type": "stream",
     "text": [
      "Index(['unknown', 'Action', 'Adventure', 'Animation', 'Children's', 'Comedy',\n",
      "       'Crime', 'Documentary', 'Drama', 'Fantasy', 'Film-Noir', 'Horror',\n",
      "       'Musical', 'Mystery', 'Romance', 'Sci-Fi', 'Thriller', 'War',\n",
      "       'Western'],\n",
      "      dtype='object')\n",
      "[['1' 'Toy Story (1995)' '01-Jan-1995' ... 0.0 0.0 0.0]\n",
      " ['2' 'GoldenEye (1995)' '01-Jan-1995' ... 1.0 0.0 0.0]\n",
      " ['3' 'Four Rooms (1995)' '01-Jan-1995' ... 1.0 0.0 0.0]\n",
      " ...\n",
      " ['1680' 'Sliding Doors (1998)' '01-Jan-1998' ... 0.0 0.0 0.0]\n",
      " ['1681' 'You So Crazy (1994)' '01-Jan-1994' ... 0.0 0.0 0.0]\n",
      " ['1682' 'Scream of Stone (Schrei aus Stein) (1991)' '08-Mar-1996' ...\n",
      "  0.0 0.0 0.0]]\n"
     ]
    }
   ],
   "source": [
    "movies_index=data2.MovieID\n",
    "genres=data2.columns\n",
    "genres=genres[5:]\n",
    "print(genres)\n",
    "genre_values=data2.values\n",
    "print(genre_values)"
   ]
  },
  {
   "cell_type": "code",
   "execution_count": 72,
   "metadata": {},
   "outputs": [
    {
     "data": {
      "text/html": [
       "<div>\n",
       "<style scoped>\n",
       "    .dataframe tbody tr th:only-of-type {\n",
       "        vertical-align: middle;\n",
       "    }\n",
       "\n",
       "    .dataframe tbody tr th {\n",
       "        vertical-align: top;\n",
       "    }\n",
       "\n",
       "    .dataframe thead th {\n",
       "        text-align: right;\n",
       "    }\n",
       "</style>\n",
       "<table border=\"1\" class=\"dataframe\">\n",
       "  <thead>\n",
       "    <tr style=\"text-align: right;\">\n",
       "      <th></th>\n",
       "      <th>UserID</th>\n",
       "      <th>ItemID</th>\n",
       "      <th>Rating</th>\n",
       "      <th>Timestamp</th>\n",
       "    </tr>\n",
       "  </thead>\n",
       "  <tbody>\n",
       "    <tr>\n",
       "      <th>12</th>\n",
       "      <td>200</td>\n",
       "      <td>222</td>\n",
       "      <td>5</td>\n",
       "      <td>876042340</td>\n",
       "    </tr>\n",
       "    <tr>\n",
       "      <th>189</th>\n",
       "      <td>200</td>\n",
       "      <td>673</td>\n",
       "      <td>5</td>\n",
       "      <td>884128554</td>\n",
       "    </tr>\n",
       "    <tr>\n",
       "      <th>243</th>\n",
       "      <td>200</td>\n",
       "      <td>318</td>\n",
       "      <td>5</td>\n",
       "      <td>884128458</td>\n",
       "    </tr>\n",
       "    <tr>\n",
       "      <th>326</th>\n",
       "      <td>200</td>\n",
       "      <td>304</td>\n",
       "      <td>5</td>\n",
       "      <td>876041644</td>\n",
       "    </tr>\n",
       "    <tr>\n",
       "      <th>367</th>\n",
       "      <td>200</td>\n",
       "      <td>96</td>\n",
       "      <td>5</td>\n",
       "      <td>884129409</td>\n",
       "    </tr>\n",
       "    <tr>\n",
       "      <th>503</th>\n",
       "      <td>200</td>\n",
       "      <td>365</td>\n",
       "      <td>5</td>\n",
       "      <td>884129962</td>\n",
       "    </tr>\n",
       "    <tr>\n",
       "      <th>692</th>\n",
       "      <td>200</td>\n",
       "      <td>11</td>\n",
       "      <td>5</td>\n",
       "      <td>884129542</td>\n",
       "    </tr>\n",
       "    <tr>\n",
       "      <th>1129</th>\n",
       "      <td>200</td>\n",
       "      <td>892</td>\n",
       "      <td>4</td>\n",
       "      <td>884127082</td>\n",
       "    </tr>\n",
       "    <tr>\n",
       "      <th>1285</th>\n",
       "      <td>200</td>\n",
       "      <td>588</td>\n",
       "      <td>5</td>\n",
       "      <td>884128499</td>\n",
       "    </tr>\n",
       "    <tr>\n",
       "      <th>1490</th>\n",
       "      <td>200</td>\n",
       "      <td>478</td>\n",
       "      <td>5</td>\n",
       "      <td>884128788</td>\n",
       "    </tr>\n",
       "  </tbody>\n",
       "</table>\n",
       "</div>"
      ],
      "text/plain": [
       "      UserID  ItemID  Rating  Timestamp\n",
       "12       200     222       5  876042340\n",
       "189      200     673       5  884128554\n",
       "243      200     318       5  884128458\n",
       "326      200     304       5  876041644\n",
       "367      200      96       5  884129409\n",
       "503      200     365       5  884129962\n",
       "692      200      11       5  884129542\n",
       "1129     200     892       4  884127082\n",
       "1285     200     588       5  884128499\n",
       "1490     200     478       5  884128788"
      ]
     },
     "execution_count": 72,
     "metadata": {},
     "output_type": "execute_result"
    }
   ],
   "source": [
    "dat200=pd.DataFrame(data1.loc[data1['UserID']==200])\n",
    "user200_rating=dat200.Rating\n",
    "user200_index=dat200.ItemID   \n",
    "dat200.head(n=10)"
   ]
  },
  {
   "cell_type": "code",
   "execution_count": 73,
   "metadata": {},
   "outputs": [
    {
     "name": "stdout",
     "output_type": "stream",
     "text": [
      "12      222\n",
      "189     673\n",
      "243     318\n",
      "326     304\n",
      "367      96\n",
      "503     365\n",
      "692      11\n",
      "1129    892\n",
      "1285    588\n",
      "1490    478\n",
      "Name: ItemID, dtype: int64\n"
     ]
    }
   ],
   "source": [
    "print(user200_index[0:10])"
   ]
  },
  {
   "cell_type": "code",
   "execution_count": 74,
   "metadata": {},
   "outputs": [
    {
     "name": "stdout",
     "output_type": "stream",
     "text": [
      "4\n"
     ]
    }
   ],
   "source": [
    "user200rkeys=list(user200_rating)\n",
    "print(user200rkeys[7])"
   ]
  },
  {
   "cell_type": "code",
   "execution_count": 75,
   "metadata": {},
   "outputs": [
    {
     "data": {
      "text/html": [
       "<div>\n",
       "<style scoped>\n",
       "    .dataframe tbody tr th:only-of-type {\n",
       "        vertical-align: middle;\n",
       "    }\n",
       "\n",
       "    .dataframe tbody tr th {\n",
       "        vertical-align: top;\n",
       "    }\n",
       "\n",
       "    .dataframe thead th {\n",
       "        text-align: right;\n",
       "    }\n",
       "</style>\n",
       "<table border=\"1\" class=\"dataframe\">\n",
       "  <thead>\n",
       "    <tr style=\"text-align: right;\">\n",
       "      <th></th>\n",
       "      <th>UserID</th>\n",
       "      <th>ItemID</th>\n",
       "      <th>Rating</th>\n",
       "      <th>Timestamp</th>\n",
       "    </tr>\n",
       "  </thead>\n",
       "  <tbody>\n",
       "    <tr>\n",
       "      <th>206</th>\n",
       "      <td>15</td>\n",
       "      <td>405</td>\n",
       "      <td>2</td>\n",
       "      <td>879455957</td>\n",
       "    </tr>\n",
       "    <tr>\n",
       "      <th>642</th>\n",
       "      <td>15</td>\n",
       "      <td>749</td>\n",
       "      <td>1</td>\n",
       "      <td>879455311</td>\n",
       "    </tr>\n",
       "    <tr>\n",
       "      <th>708</th>\n",
       "      <td>15</td>\n",
       "      <td>25</td>\n",
       "      <td>3</td>\n",
       "      <td>879456204</td>\n",
       "    </tr>\n",
       "    <tr>\n",
       "      <th>1208</th>\n",
       "      <td>15</td>\n",
       "      <td>331</td>\n",
       "      <td>3</td>\n",
       "      <td>879455166</td>\n",
       "    </tr>\n",
       "    <tr>\n",
       "      <th>1365</th>\n",
       "      <td>15</td>\n",
       "      <td>222</td>\n",
       "      <td>3</td>\n",
       "      <td>879455730</td>\n",
       "    </tr>\n",
       "    <tr>\n",
       "      <th>2207</th>\n",
       "      <td>15</td>\n",
       "      <td>473</td>\n",
       "      <td>1</td>\n",
       "      <td>879456204</td>\n",
       "    </tr>\n",
       "    <tr>\n",
       "      <th>2241</th>\n",
       "      <td>15</td>\n",
       "      <td>678</td>\n",
       "      <td>1</td>\n",
       "      <td>879455311</td>\n",
       "    </tr>\n",
       "    <tr>\n",
       "      <th>2461</th>\n",
       "      <td>15</td>\n",
       "      <td>932</td>\n",
       "      <td>1</td>\n",
       "      <td>879456465</td>\n",
       "    </tr>\n",
       "    <tr>\n",
       "      <th>2464</th>\n",
       "      <td>15</td>\n",
       "      <td>127</td>\n",
       "      <td>2</td>\n",
       "      <td>879455505</td>\n",
       "    </tr>\n",
       "    <tr>\n",
       "      <th>2649</th>\n",
       "      <td>15</td>\n",
       "      <td>685</td>\n",
       "      <td>4</td>\n",
       "      <td>879456288</td>\n",
       "    </tr>\n",
       "  </tbody>\n",
       "</table>\n",
       "</div>"
      ],
      "text/plain": [
       "      UserID  ItemID  Rating  Timestamp\n",
       "206       15     405       2  879455957\n",
       "642       15     749       1  879455311\n",
       "708       15      25       3  879456204\n",
       "1208      15     331       3  879455166\n",
       "1365      15     222       3  879455730\n",
       "2207      15     473       1  879456204\n",
       "2241      15     678       1  879455311\n",
       "2461      15     932       1  879456465\n",
       "2464      15     127       2  879455505\n",
       "2649      15     685       4  879456288"
      ]
     },
     "execution_count": 75,
     "metadata": {},
     "output_type": "execute_result"
    }
   ],
   "source": [
    "dat15=pd.DataFrame(data1.loc[data1['UserID']==15])\n",
    "user15_rating=dat15.Rating\n",
    "user15_index=dat15.ItemID\n",
    "dat15.head(n=10)"
   ]
  },
  {
   "cell_type": "code",
   "execution_count": 76,
   "metadata": {},
   "outputs": [
    {
     "name": "stdout",
     "output_type": "stream",
     "text": [
      "[2, 1, 3, 3, 3, 1, 1, 1, 2, 4, 3, 4, 1, 4, 2, 4, 2, 3, 3, 2, 5, 1, 2, 3, 4, 2, 4, 4, 1, 5, 4, 4, 1, 4, 1, 3, 2, 1, 1, 5, 2, 4, 1, 4, 1, 3, 5, 3, 2, 5, 1, 5, 1, 4, 5, 1, 2, 4, 5, 5, 1, 1, 4, 4, 3, 2, 4, 1, 4, 4, 1, 3, 4, 2, 1, 1, 5, 3, 5, 4, 3, 4, 3, 2, 1, 3, 4, 4, 4, 3, 4, 5, 3, 1, 4, 3, 3, 3, 2, 3, 3, 3, 2, 3]\n"
     ]
    }
   ],
   "source": [
    "user15rkeys=list(user15_rating)\n",
    "print(user15rkeys)"
   ]
  },
  {
   "cell_type": "code",
   "execution_count": 95,
   "metadata": {},
   "outputs": [
    {
     "name": "stdout",
     "output_type": "stream",
     "text": [
      "User 200's Ratings : [2.03, 1.18, 0.38, 0.8, 3.21, 0.55, 0.13, 3.13, 0.21, 0.13, 0.55, 0.46, 0.3, 1.18, 0.97, 1.61, 0.8, 0.38]\n",
      "User 15's Ratings : [1.79, 0.9, 0.09, 0.99, 2.33, 0.81, 0.18, 4.3, 0.27, 0.18, 0.36, 0.18, 0.45, 1.34, 0.9, 2.24, 0.54, 0.18]\n"
     ]
    }
   ],
   "source": [
    "def findRating(s1,user):\n",
    "    l=[0]*18\n",
    "    for i in s1:\n",
    "        pos=0\n",
    "        j=genre_values[i]\n",
    "        j=j[5:]\n",
    "        if user==1:\n",
    "            index=0\n",
    "            for i in j:\n",
    "                i*=int(user200rkeys[index])\n",
    "                index+=1\n",
    "        else:\n",
    "            index=0\n",
    "            for i in j:\n",
    "                i*=int(user15rkeys[index])\n",
    "                index+=1\n",
    "                \n",
    "        for ind in j:\n",
    "            l[pos]+=ind\n",
    "            pos+=1\n",
    "    avrg=avg(l)\n",
    "\n",
    "    for i in range(18):\n",
    "        l[i]/=avrg\n",
    "        l[i]=round(l[i],2)\n",
    "    return l\n",
    "user200s=findRating(user200_index,1)\n",
    "user15s=findRating(user15_index,2)\n",
    "print(\"User 200's Ratings : \"+str(user200s))\n",
    "print(\"User 15's Ratings : \"+str(user15s))\n",
    "movie_to_rate=genre_values[95]\n",
    "movie_to_rate=movie_to_rate[5:]"
   ]
  },
  {
   "cell_type": "code",
   "execution_count": 98,
   "metadata": {},
   "outputs": [
    {
     "name": "stdout",
     "output_type": "stream",
     "text": [
      "The Cosine Distance between User200 and Movie Number 95 is 0.46267094608955356\n",
      "The Cosine Distance between User15 and Movie Number 95 is 0.1307266331069201\n"
     ]
    }
   ],
   "source": [
    "num=dotProd(user200s,movie_to_rate)\n",
    "den=sqrt(dotProd(user200s,user200s)) * sqrt(dotProd(movie_to_rate,movie_to_rate))\n",
    "print(\"The Cosine Distance between User200 and Movie Number 95 is \"+str(num/den))\n",
    "\n",
    "num=dotProd(user15s,movie_to_rate)\n",
    "den=sqrt(dotProd(user15s,user15s)) * sqrt(dotProd(movie_to_rate,movie_to_rate))\n",
    "print(\"The Cosine Distance between User15 and Movie Number 95 is \"+str(num/den))"
   ]
  },
  {
   "cell_type": "code",
   "execution_count": 99,
   "metadata": {},
   "outputs": [
    {
     "name": "stdout",
     "output_type": "stream",
     "text": [
      "User 200 is recommended to watch Alladin\n"
     ]
    }
   ],
   "source": [
    "if user200_distance>user15_distance:\n",
    "    print(\"User 200 is recommended to watch Alladin\")\n",
    "elif user200_distance<user15_distance:\n",
    "    print(\"User 15 is recommended to watch Alladin\")\n",
    "else:\n",
    "    print(\"Both user 200 and user 15 are recommended to watch Alladin\")"
   ]
  },
  {
   "cell_type": "markdown",
   "metadata": {},
   "source": [
    "3"
   ]
  },
  {
   "cell_type": "code",
   "execution_count": 103,
   "metadata": {
    "scrolled": true
   },
   "outputs": [
    {
     "name": "stdout",
     "output_type": "stream",
     "text": [
      "      UserID  ItemID  Rating  Timestamp\n",
      "245      178     568       4  882826555\n",
      "483      214     568       4  892668197\n",
      "732      263     568       4  891299387\n",
      "926       72     568       4  880037203\n",
      "1290     110     568       3  886988449\n",
      "1384     276     568       4  882659211\n",
      "1558     290     568       3  880474716\n",
      "1840     262     568       3  879794113\n",
      "2864     311     568       5  884365325\n",
      "3100     158     568       4  880134532\n"
     ]
    },
    {
     "data": {
      "text/html": [
       "<div>\n",
       "<style scoped>\n",
       "    .dataframe tbody tr th:only-of-type {\n",
       "        vertical-align: middle;\n",
       "    }\n",
       "\n",
       "    .dataframe tbody tr th {\n",
       "        vertical-align: top;\n",
       "    }\n",
       "\n",
       "    .dataframe thead th {\n",
       "        text-align: right;\n",
       "    }\n",
       "</style>\n",
       "<table border=\"1\" class=\"dataframe\">\n",
       "  <thead>\n",
       "    <tr style=\"text-align: right;\">\n",
       "      <th></th>\n",
       "      <th>UserID</th>\n",
       "      <th>Age</th>\n",
       "      <th>Gender</th>\n",
       "      <th>Occupation</th>\n",
       "      <th>ZipCodes</th>\n",
       "    </tr>\n",
       "  </thead>\n",
       "  <tbody>\n",
       "    <tr>\n",
       "      <th>1</th>\n",
       "      <td>1</td>\n",
       "      <td>24</td>\n",
       "      <td>M</td>\n",
       "      <td>technician</td>\n",
       "      <td>85711</td>\n",
       "    </tr>\n",
       "    <tr>\n",
       "      <th>2</th>\n",
       "      <td>2</td>\n",
       "      <td>53</td>\n",
       "      <td>F</td>\n",
       "      <td>other</td>\n",
       "      <td>94043</td>\n",
       "    </tr>\n",
       "    <tr>\n",
       "      <th>3</th>\n",
       "      <td>3</td>\n",
       "      <td>23</td>\n",
       "      <td>M</td>\n",
       "      <td>writer</td>\n",
       "      <td>32067</td>\n",
       "    </tr>\n",
       "    <tr>\n",
       "      <th>4</th>\n",
       "      <td>4</td>\n",
       "      <td>24</td>\n",
       "      <td>M</td>\n",
       "      <td>technician</td>\n",
       "      <td>43537</td>\n",
       "    </tr>\n",
       "    <tr>\n",
       "      <th>5</th>\n",
       "      <td>5</td>\n",
       "      <td>33</td>\n",
       "      <td>F</td>\n",
       "      <td>other</td>\n",
       "      <td>15213</td>\n",
       "    </tr>\n",
       "    <tr>\n",
       "      <th>6</th>\n",
       "      <td>6</td>\n",
       "      <td>42</td>\n",
       "      <td>M</td>\n",
       "      <td>executive</td>\n",
       "      <td>98101</td>\n",
       "    </tr>\n",
       "    <tr>\n",
       "      <th>7</th>\n",
       "      <td>7</td>\n",
       "      <td>57</td>\n",
       "      <td>M</td>\n",
       "      <td>administrator</td>\n",
       "      <td>91344</td>\n",
       "    </tr>\n",
       "    <tr>\n",
       "      <th>8</th>\n",
       "      <td>8</td>\n",
       "      <td>36</td>\n",
       "      <td>M</td>\n",
       "      <td>administrator</td>\n",
       "      <td>05201</td>\n",
       "    </tr>\n",
       "    <tr>\n",
       "      <th>9</th>\n",
       "      <td>9</td>\n",
       "      <td>29</td>\n",
       "      <td>M</td>\n",
       "      <td>student</td>\n",
       "      <td>01002</td>\n",
       "    </tr>\n",
       "    <tr>\n",
       "      <th>10</th>\n",
       "      <td>10</td>\n",
       "      <td>53</td>\n",
       "      <td>M</td>\n",
       "      <td>lawyer</td>\n",
       "      <td>90703</td>\n",
       "    </tr>\n",
       "  </tbody>\n",
       "</table>\n",
       "</div>"
      ],
      "text/plain": [
       "    UserID  Age Gender     Occupation ZipCodes\n",
       "1        1   24      M     technician    85711\n",
       "2        2   53      F          other    94043\n",
       "3        3   23      M         writer    32067\n",
       "4        4   24      M     technician    43537\n",
       "5        5   33      F          other    15213\n",
       "6        6   42      M      executive    98101\n",
       "7        7   57      M  administrator    91344\n",
       "8        8   36      M  administrator    05201\n",
       "9        9   29      M        student    01002\n",
       "10      10   53      M         lawyer    90703"
      ]
     },
     "execution_count": 103,
     "metadata": {},
     "output_type": "execute_result"
    }
   ],
   "source": [
    "speed_us=pd.DataFrame(data1.loc[data1['ItemID']==568])\n",
    "print(speed_us.head(n=10))\n",
    "speed_values=speed_us.values\n",
    "users1=[]\n",
    "for i in speed_values:\n",
    "    if(i[2]>=2.5):\n",
    "        users1.append(users1)\n",
    "colnames3=[\"UserID\",\"Age\",\"Gender\",\"Occupation\",\"ZipCodes\"]\n",
    "age1=pd.read_csv('E:/Python Projects/ml-100k/user.csv', sep = '|',encoding='iso-8859-1', names = colnames3)\n",
    "age1.index+=1\n",
    "age1.head(n=10)"
   ]
  },
  {
   "cell_type": "code",
   "execution_count": 104,
   "metadata": {},
   "outputs": [
    {
     "data": {
      "text/plain": [
       "[42, 57, 36, 29, 53]"
      ]
     },
     "execution_count": 104,
     "metadata": {},
     "output_type": "execute_result"
    }
   ],
   "source": [
    "age=age1.Age\n",
    "age.head(10)\n",
    "age=list(age)\n",
    "age[5:10]"
   ]
  },
  {
   "cell_type": "code",
   "execution_count": 105,
   "metadata": {},
   "outputs": [
    {
     "name": "stdout",
     "output_type": "stream",
     "text": [
      "Number of users younger than 20 :  77\n",
      "Number of users aged 20-30 :  332\n",
      "Number of users aged 30-40 :  241\n",
      "Number of users aged 40-50 :  168\n",
      "Number of users aged 50-60 :  94\n",
      "Number of users aged 60 and above :  27\n",
      "943\n"
     ]
    }
   ],
   "source": [
    "age15=[]\n",
    "age20=[]\n",
    "age30=[]\n",
    "age40=[]\n",
    "age50=[]\n",
    "age60=[]\n",
    "\n",
    "for i in age:\n",
    "    if(i<20):\n",
    "        age15.append(i)\n",
    "    if(i>=20 and i<30):\n",
    "        age20.append(i)\n",
    "    if(i>=30 and i<40):\n",
    "        age30.append(i)\n",
    "    if(i>=40 and i<50):\n",
    "        age40.append(i)\n",
    "    if(i>=50 and i<60):\n",
    "        age50.append(i)\n",
    "    if(i>=60 and i<70):\n",
    "        age60.append(i)\n",
    "print(\"Number of users younger than 20 : \",len(age15))\n",
    "print(\"Number of users aged 20-30 : \",len(age20))\n",
    "print(\"Number of users aged 30-40 : \",len(age30))\n",
    "print(\"Number of users aged 40-50 : \",len(age40))\n",
    "print(\"Number of users aged 50-60 : \",len(age50))\n",
    "print(\"Number of users aged 60 and above : \",len(age60))\n",
    "print(len(age))\n"
   ]
  },
  {
   "cell_type": "code",
   "execution_count": 107,
   "metadata": {},
   "outputs": [
    {
     "name": "stdout",
     "output_type": "stream",
     "text": [
      "[186, 244, 166, 6, 200, 122, 167, 299, 308, 301, 225, 290, 157, 278, 276, 276, 287, 246, 242, 178, 251, 81, 25, 59, 87, 42, 201, 167, 223, 189, 246, 241, 178, 293, 299, 267, 145, 62, 135, 293, 216, 166, 265, 58, 62, 279, 72, 250, 224, 262, 250, 7, 299, 269, 299, 160, 259, 85, 213, 49, 43, 279, 80, 254, 279, 66, 7, 94, 26, 256, 72, 259, 52, 161, 83, 125, 299, 151, 269, 87, 294, 229, 178, 62, 207, 92, 301, 36, 63, 279, 194, 119, 66, 83, 214, 234, 181, 201, 85, 59, 286, 193, 219, 158, 302, 279, 301, 13, 1, 23, 95, 296, 16, 270, 145, 170, 184, 54, 112, 218, 133, 104, 63, 267, 240, 294, 18, 308, 191, 59, 61, 142, 275, 207, 272, 197, 234, 268, 180, 234, 38, 269, 52, 13, 236, 256, 83, 144, 301, 92, 222, 268, 213, 13, 5, 114, 128, 291, 250, 216, 13, 295, 269, 85, 137, 257, 111, 181, 189, 1, 214, 293, 96, 7, 269, 70, 221, 72, 25, 189, 299, 264, 184, 298, 235, 246, 54, 11, 307, 256, 94, 182, 254, 151, 181, 293, 197, 109, 192, 244, 21, 231, 279, 152, 217, 79, 308, 269, 13, 230, 239, 271, 10, 294, 279, 118, 245, 13, 276, 244, 62, 280, 13, 173, 244, 178, 117, 264, 246, 87, 256, 181, 292, 188, 90, 5, 8, 222, 165, 90, 263, 134, 286, 22, 234, 15, 268, 274, 7, 16, 164, 92, 234, 308, 192, 122, 85, 263, 201, 93, 276, 13, 146, 126, 125, 43, 268, 262, 234, 156, 232, 235, 77, 90, 44, 77, 58, 224, 272, 207, 194, 94, 181, 54, 92, 44, 1, 299, 94, 216, 254, 62, 268, 188, 158, 47, 10, 58, 194, 311, 254, 104, 90, 279, 286, 297, 230, 110, 83, 305, 279, 221, 150, 20, 181, 213, 215, 275, 68, 160, 224, 5, 99, 2, 85, 83, 7, 1, 24, 161, 56, 7]\n"
     ]
    }
   ],
   "source": [
    "id=[]\n",
    "j=0\n",
    "for i in age:\n",
    "    j+=1\n",
    "    if(i>=20 and i<30):\n",
    "        id.append(j)\n",
    "movie_id=[]\n",
    "items=data1.values\n",
    "for i in id:\n",
    "    j=items[i]\n",
    "    movie_id.append(j[0])\n",
    "print(movie_id)"
   ]
  },
  {
   "cell_type": "code",
   "execution_count": 110,
   "metadata": {},
   "outputs": [
    {
     "name": "stdout",
     "output_type": "stream",
     "text": [
      "[0.0 1.0 0.0 0.0 0.0 0.0 0.0 0.0 0.0 0.0 0.0 0.0 0.0 0.0 1.0 0.0 1.0 0.0\n",
      " 0.0]\n",
      "[0.33, 0.58, 0.0, 0.0, 0.29, 0.0, 0.0, 0.82, 0.0, 0.29, 0.82, 0.41, 0.0, 0.0, 0.0, 0.0, 0.41, 0.33, 0.0, 0.0, 0.58, 0.33, 0.0, 0.0, 0.41, 0.41, 0.41, 0.0, 0.0, 0.0, 0.33, 0.0, 0.0, 0.0, 0.82, 0.41, 0.0, 0.0, 0.0, 0.0, 0.41, 0.0, 0.41, 0.0, 0.0, 0.41, 0.33, 0.0, 0.0, 0.58, 0.0, 0.0, 0.82, 0.33, 0.82, 0.82, 0.58, 0.0, 0.0, 0.52, 0.41, 0.41, 0.41, 0.41, 0.41, 0.0, 0.0, 0.0, 0.58, 0.29, 0.33, 0.58, 0.82, 0.0, 0.0, 0.0, 0.82, 0.0, 0.33, 0.41, 0.82, 0.33, 0.0, 0.0, 0.0, 0.0, 0.29, 0.0, 0.0, 0.41, 0.67, 0.0, 0.0, 0.0, 0.0, 0.29, 0.0, 0.41, 0.0, 0.0, 0.0, 0.0, 0.41, 0.41, 0.0, 0.41, 0.29, 0.41, 0.67, 0.33, 0.67, 0.0, 0.52, 0.29, 0.0, 0.0, 0.67, 0.58, 0.0, 0.0, 0.0, 0.0, 0.0, 0.41, 0.67, 0.82, 0.0, 0.0, 0.0, 0.0, 0.33, 0.0, 0.41, 0.0, 0.67, 0.58, 0.29, 0.0, 0.52, 0.29, 0.33, 0.33, 0.82, 0.41, 0.41, 0.29, 0.0, 0.67, 0.29, 0.0, 0.41, 0.0, 0.0, 0.41, 0.0, 0.0, 0.58, 0.0, 0.0, 0.41, 0.41, 0.0, 0.33, 0.0, 0.0, 0.0, 0.0, 0.0, 0.0, 0.67, 0.0, 0.0, 0.0, 0.0, 0.33, 0.0, 0.33, 0.33, 0.0, 0.0, 0.82, 0.82, 0.67, 0.0, 0.0, 0.33, 0.58, 0.41, 0.0, 0.29, 0.0, 0.58, 0.41, 0.0, 0.0, 0.0, 0.58, 0.29, 0.0, 0.58, 0.33, 0.33, 0.41, 0.0, 0.58, 0.33, 0.0, 0.33, 0.41, 0.29, 0.0, 0.0, 0.41, 0.82, 0.41, 0.0, 0.41, 0.41, 0.0, 0.58, 0.0, 0.82, 0.41, 0.41, 0.58, 0.0, 0.67, 0.82, 0.33, 0.41, 0.29, 0.0, 0.0, 0.0, 0.0, 0.0, 0.0, 0.41, 0.0, 0.0, 0.41, 0.29, 0.0, 0.41, 0.29, 0.41, 0.0, 0.41, 0.0, 0.52, 0.0, 0.0, 0.29, 0.0, 0.0, 0.0, 0.0, 0.41, 0.41, 0.0, 0.0, 0.41, 0.82, 0.33, 0.0, 0.41, 0.0, 0.58, 0.29, 0.0, 0.58, 0.0, 0.0, 0.0, 0.0, 0.0, 0.0, 0.0, 0.67, 0.0, 0.67, 0.0, 0.0, 0.58, 0.0, 0.0, 0.67, 0.82, 0.0, 0.41, 0.41, 0.0, 0.0, 0.0, 0.41, 0.0, 0.41, 0.0, 0.67, 0.0, 0.41, 0.0, 0.0, 0.41, 0.0, 0.67, 0.29, 0.41, 0.0, 0.41, 0.41, 0.33, 0.0, 0.52, 0.0, 0.0, 0.41, 0.41, 0.33, 0.82, 0.0, 0.0, 0.33, 0.58, 0.0, 0.0, 0.0, 0.67, 0.0, 0.0, 0.0, 0.0]\n"
     ]
    }
   ],
   "source": [
    "movie1=genre_values[567]\n",
    "\n",
    "movie1=movie1[5:]\n",
    "print(movie1)\n",
    "dist=[]\n",
    "for i in movie_id:\n",
    "    j=genre_values[i]\n",
    "    j=j[5:]\n",
    "    num=dotProd(movie1,j)\n",
    "    den=sqrt(dotProd(j,j))*sqrt(dotProd(movie1,movie1))\n",
    "    dist.append(round((num/den),2))\n",
    "print(dist)"
   ]
  },
  {
   "cell_type": "code",
   "execution_count": 113,
   "metadata": {},
   "outputs": [
    {
     "name": "stdout",
     "output_type": "stream",
     "text": [
      "[0.33, 0.58, 0.0, 0.0, 0.29, 0.0, 0.0, 0.82, 0.0, 0.29, 0.82, 0.41, 0.0, 0.0, 0.0, 0.0, 0.41, 0.33, 0.0, 0.0, 0.58, 0.33, 0.0, 0.0, 0.41, 0.41, 0.41, 0.0, 0.0, 0.0, 0.33, 0.0, 0.0, 0.0, 0.82, 0.41, 0.0, 0.0, 0.0, 0.0, 0.41, 0.0, 0.41, 0.0, 0.0, 0.41, 0.33, 0.0, 0.0, 0.58, 0.0, 0.0, 0.82, 0.33, 0.82, 0.82, 0.58, 0.0, 0.0, 0.52, 0.41, 0.41, 0.41, 0.41, 0.41, 0.0, 0.0, 0.0, 0.58, 0.29, 0.33, 0.58, 0.82, 0.0, 0.0, 0.0, 0.82, 0.0, 0.33, 0.41, 0.82, 0.33, 0.0, 0.0, 0.0, 0.0, 0.29, 0.0, 0.0, 0.41, 0.67, 0.0, 0.0, 0.0, 0.0, 0.29, 0.0, 0.41, 0.0, 0.0, 0.0, 0.0, 0.41, 0.41, 0.0, 0.41, 0.29, 0.41, 0.67, 0.33, 0.67, 0.0, 0.52, 0.29, 0.0, 0.0, 0.67, 0.58, 0.0, 0.0, 0.0, 0.0, 0.0, 0.41, 0.67, 0.82, 0.0, 0.0, 0.0, 0.0, 0.33, 0.0, 0.41, 0.0, 0.67, 0.58, 0.29, 0.0, 0.52, 0.29, 0.33, 0.33, 0.82, 0.41, 0.41, 0.29, 0.0, 0.67, 0.29, 0.0, 0.41, 0.0, 0.0, 0.41, 0.0, 0.0, 0.58, 0.0, 0.0, 0.41, 0.41, 0.0, 0.33, 0.0, 0.0, 0.0, 0.0, 0.0, 0.0, 0.67, 0.0, 0.0, 0.0, 0.0, 0.33, 0.0, 0.33, 0.33, 0.0, 0.0, 0.82, 0.82, 0.67, 0.0, 0.0, 0.33, 0.58, 0.41, 0.0, 0.29, 0.0, 0.58, 0.41, 0.0, 0.0, 0.0, 0.58, 0.29, 0.0, 0.58, 0.33, 0.33, 0.41, 0.0, 0.58, 0.33, 0.0, 0.33, 0.41, 0.29, 0.0, 0.0, 0.41, 0.82, 0.41, 0.0, 0.41, 0.41, 0.0, 0.58, 0.0, 0.82, 0.41, 0.41, 0.58, 0.0, 0.67, 0.82, 0.33, 0.41, 0.29, 0.0, 0.0, 0.0, 0.0, 0.0, 0.0, 0.41, 0.0, 0.0, 0.41, 0.29, 0.0, 0.41, 0.29, 0.41, 0.0, 0.41, 0.0, 0.52, 0.0, 0.0, 0.29, 0.0, 0.0, 0.0, 0.0, 0.41, 0.41, 0.0, 0.0, 0.41, 0.82, 0.33, 0.0, 0.41, 0.0, 0.58, 0.29, 0.0, 0.58, 0.0, 0.0, 0.0, 0.0, 0.0, 0.0, 0.0, 0.67, 0.0, 0.67, 0.0, 0.0, 0.58, 0.0, 0.0, 0.67, 0.82, 0.0, 0.41, 0.41, 0.0, 0.0, 0.0, 0.41, 0.0, 0.41, 0.0, 0.67, 0.0, 0.41, 0.0, 0.0, 0.41, 0.0, 0.67, 0.29, 0.41, 0.0, 0.41, 0.41, 0.33, 0.0, 0.52, 0.0, 0.0, 0.41, 0.41, 0.33, 0.82, 0.0, 0.0, 0.33, 0.58, 0.0, 0.0, 0.0, 0.67, 0.0, 0.0, 0.0, 0.0]\n"
     ]
    }
   ],
   "source": [
    "res = dist\n",
    "# key = lambda sub: dist[sub])[-3:]\n",
    "print(res)"
   ]
  },
  {
   "cell_type": "code",
   "execution_count": 120,
   "metadata": {},
   "outputs": [
    {
     "name": "stdout",
     "output_type": "stream",
     "text": [
      "3 Ninjas: High Noon At Mega Mountain (1998)\n",
      "Apt Pupil (1998)\n",
      "As Good As It Gets (1997)\n",
      "In the Name of the Father (1993)\n",
      "Schindler's List (1993)\n",
      "Everyone Says I Love You (1996)\n",
      "Paradise Lost: The Child Murders at Robin Hood Hills (1996)\n",
      "Mother (1996)\n",
      "Murder at 1600 (1997)\n",
      "Dante's Peak (1997)\n",
      "Lost Highway (1997)\n",
      "Crash (1996)\n",
      "G.I. Jane (1997)\n",
      "Cop Land (1997)\n",
      "Conspiracy Theory (1997)\n",
      "Desperate Measures (1998)\n",
      "187 (1997)\n",
      "Edge, The (1997)\n",
      "Kiss the Girls (1997)\n"
     ]
    }
   ],
   "source": [
    "moviet=data2.values\n",
    "max1=max(res)\n",
    "for i in range(len(dist)):\n",
    "    if(dist[i]==max1):\n",
    "        j=moviet[i]\n",
    "        print(j[1]) "
   ]
  },
  {
   "cell_type": "code",
   "execution_count": null,
   "metadata": {},
   "outputs": [],
   "source": []
  }
 ],
 "metadata": {
  "kernelspec": {
   "display_name": "Python 3",
   "language": "python",
   "name": "python3"
  },
  "language_info": {
   "codemirror_mode": {
    "name": "ipython",
    "version": 3
   },
   "file_extension": ".py",
   "mimetype": "text/x-python",
   "name": "python",
   "nbconvert_exporter": "python",
   "pygments_lexer": "ipython3",
   "version": "3.7.3"
  }
 },
 "nbformat": 4,
 "nbformat_minor": 2
}
